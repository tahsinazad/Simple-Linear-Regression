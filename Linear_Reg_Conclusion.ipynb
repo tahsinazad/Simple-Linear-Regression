{
 "cells": [
  {
   "cell_type": "markdown",
   "id": "d0e6887a",
   "metadata": {},
   "source": [
    "# Conclusion"
   ]
  },
  {
   "cell_type": "markdown",
   "id": "7dcb7cbc",
   "metadata": {},
   "source": [
    "Conclusion and Interpretation:\n",
    "\n",
    "**Linear Regression Scatter Plot**: Through the Linear Regression scatter plot, we can clearly see that the regression produced a straight line of predicted head lengths. This is what we desired. THe line is an estimate or prediction of head length based on the known foot lengths\n",
    "\n",
    "**RMSE**: The RMSE for this problem was 2.1289. Since our maximum predicted head length is roughly 96 and our minimum is roughly 87, my interpretation of this is that this was a decent linear regression. Had the RMSE been less than 2.1289, it would have been better but 2.1289 will suffice\n",
    "\n",
    "**Residual Scatter Plot**: In the residual scatter plot, we can see that most values lie around the 0 value of the Y axis. This is ideal and what we desire, because the closer to the zero the data points are, the more accurate the prediction is. For the values above the zero this means the prediction was too low, and for the values below the zero, this means the prediction was too high. We can also note that 2 odd values are well away from the zero, at roughly -6, which means for these two values, the prediction was poor and incorrect.\n",
    "\n",
    "**What may have gone wrong**:\n",
    "-When looking at the original scatter plot of possum foot length vs head length, we notice that three data points are very different compared to the other points. These are outliers and differ greatly than the other points. Had the dataset not containted these three points, the regression may have been better\n",
    "-Moreover, we can see via the scatter plot including the regression line that the two lowest value were very far from the regression line prediction. These two values are also the two odd residuals discussed earlier.\n",
    "-Another error could be that [independent variables aren't perfect in determining dependent variables](https://hbr.org/2015/11/a-refresher-on-regression-analysis#:~:text=A%20regression%20line%20always%20has,can%20be%20about%20the%20formula.). In this regression project, foot length and head length may be correlated, but there are other factors as well, such as the possums' gender, nutrition, genetics, skull length, etc."
   ]
  }
 ],
 "metadata": {
  "kernelspec": {
   "display_name": "Python 3 (ipykernel)",
   "language": "python",
   "name": "python3"
  },
  "language_info": {
   "codemirror_mode": {
    "name": "ipython",
    "version": 3
   },
   "file_extension": ".py",
   "mimetype": "text/x-python",
   "name": "python",
   "nbconvert_exporter": "python",
   "pygments_lexer": "ipython3",
   "version": "3.9.7"
  }
 },
 "nbformat": 4,
 "nbformat_minor": 5
}
